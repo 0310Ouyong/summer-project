{
 "cells": [
  {
   "cell_type": "code",
   "execution_count": 1,
   "id": "f71f9157",
   "metadata": {},
   "outputs": [],
   "source": [
    "import pandas as pd\n",
    "import networkx as nx\n",
    "import seaborn as sns\n",
    "import numpy as np\n",
    "import matplotlib.pyplot as plt\n",
    "import math\n",
    "import os\n",
    "os.chdir('C:/data')"
   ]
  },
  {
   "cell_type": "code",
   "execution_count": 2,
   "id": "53c3f63d",
   "metadata": {},
   "outputs": [
    {
     "data": {
      "text/html": [
       "<div>\n",
       "<style scoped>\n",
       "    .dataframe tbody tr th:only-of-type {\n",
       "        vertical-align: middle;\n",
       "    }\n",
       "\n",
       "    .dataframe tbody tr th {\n",
       "        vertical-align: top;\n",
       "    }\n",
       "\n",
       "    .dataframe thead th {\n",
       "        text-align: right;\n",
       "    }\n",
       "</style>\n",
       "<table border=\"1\" class=\"dataframe\">\n",
       "  <thead>\n",
       "    <tr style=\"text-align: right;\">\n",
       "      <th></th>\n",
       "      <th>username</th>\n",
       "      <th>team</th>\n",
       "      <th>lid</th>\n",
       "      <th>score</th>\n",
       "      <th>matrix</th>\n",
       "    </tr>\n",
       "  </thead>\n",
       "  <tbody>\n",
       "    <tr>\n",
       "      <th>0</th>\n",
       "      <td>jonny</td>\n",
       "      <td>0</td>\n",
       "      <td>1</td>\n",
       "      <td>0</td>\n",
       "      <td>-3.16228e-003,-8.31000e-004;1.66200e-004,-3.16...</td>\n",
       "    </tr>\n",
       "    <tr>\n",
       "      <th>1</th>\n",
       "      <td>lotte</td>\n",
       "      <td>1</td>\n",
       "      <td>1</td>\n",
       "      <td>0</td>\n",
       "      <td>-3.16228e-003,-8.31000e-004;1.66200e-004,-3.16...</td>\n",
       "    </tr>\n",
       "    <tr>\n",
       "      <th>2</th>\n",
       "      <td>Yisak</td>\n",
       "      <td>1</td>\n",
       "      <td>1</td>\n",
       "      <td>0</td>\n",
       "      <td>-3.16228e-003,-8.31000e-004;1.66200e-004,-3.16...</td>\n",
       "    </tr>\n",
       "    <tr>\n",
       "      <th>3</th>\n",
       "      <td>firerabbit</td>\n",
       "      <td>1</td>\n",
       "      <td>1</td>\n",
       "      <td>0</td>\n",
       "      <td>-3.16228e-003,-8.31000e-004;1.66200e-004,-3.16...</td>\n",
       "    </tr>\n",
       "    <tr>\n",
       "      <th>4</th>\n",
       "      <td>matthew</td>\n",
       "      <td>1</td>\n",
       "      <td>1</td>\n",
       "      <td>0</td>\n",
       "      <td>-3.16228e-003,-8.31000e-004;1.66200e-004,-3.16...</td>\n",
       "    </tr>\n",
       "  </tbody>\n",
       "</table>\n",
       "</div>"
      ],
      "text/plain": [
       "     username  team  lid  score  \\\n",
       "0       jonny     0    1      0   \n",
       "1       lotte     1    1      0   \n",
       "2       Yisak     1    1      0   \n",
       "3  firerabbit     1    1      0   \n",
       "4     matthew     1    1      0   \n",
       "\n",
       "                                              matrix  \n",
       "0  -3.16228e-003,-8.31000e-004;1.66200e-004,-3.16...  \n",
       "1  -3.16228e-003,-8.31000e-004;1.66200e-004,-3.16...  \n",
       "2  -3.16228e-003,-8.31000e-004;1.66200e-004,-3.16...  \n",
       "3  -3.16228e-003,-8.31000e-004;1.66200e-004,-3.16...  \n",
       "4  -3.16228e-003,-8.31000e-004;1.66200e-004,-3.16...  "
      ]
     },
     "execution_count": 2,
     "metadata": {},
     "output_type": "execute_result"
    }
   ],
   "source": [
    "rows = []\n",
    "with open('graphs.txt') as f:\n",
    "    for line in f:\n",
    "        name,team,lid,score,matrix = line.split('\\t')\n",
    "        team = int(team)\n",
    "        lid = int(lid)\n",
    "        score = int(score)\n",
    "        \n",
    "        rows.append([name,team,lid,score,matrix])\n",
    "        \n",
    "df = pd.DataFrame(rows, columns=['username','team','lid','score','matrix'])\n",
    "df.head()"
   ]
  },
  {
   "cell_type": "code",
   "execution_count": 3,
   "id": "bc58df07",
   "metadata": {},
   "outputs": [],
   "source": [
    "r0 = 1.71e-6\n",
    "z0 = 4.15e-8\n",
    "beta = .75\n",
    "kgmin = 1e-3\n",
    "kgmax = 1e3\n",
    "aiimin = 1e-4\n",
    "aiimax = 1e-1\n",
    "\n",
    "def unnormalise(val, minval, maxval):\n",
    "    logmin = math.log(minval)\n",
    "    logmax = math.log(maxval)\n",
    "    logval = math.log(val)\n",
    "    return (logval - logmin) / (logmax - logmin)\n",
    "\n",
    "animalcol = {\n",
    "    (0,0):(0.6659563,0.4214357,1.24803),\n",
    "    (0,0.25):(0.7819285,0.4702366,1.06561),\n",
    "    (0,0.5):(0.8521745,0.5083723,0.8867291),\n",
    "    (0,0.75):(0.8935105,0.5390537,0.710595),\n",
    "    (0,1):(0.9141396,0.5642439,0.5348938),\n",
    "    (0.125,0):(0.5896031,0.3516085,1.173094),\n",
    "    (0.125,0.25):(0.7112292,0.4047686,0.9933422),\n",
    "    (0.125,0.5):(0.7822568,0.4448652,0.8174194),\n",
    "    (0.125,0.75):(0.8226988,0.4763547,0.6445394),\n",
    "    (0.125,1):(0.8417238,0.5017385,0.4721891),\n",
    "    (0.25,0):(0.5123212,0.2794313,1.098962),\n",
    "    (0.25,0.25):(0.6412622,0.3392173,0.9219785),\n",
    "    (0.25,0.5):(0.7132986,0.3820548,0.7491495),\n",
    "    (0.25,0.75):(0.7528048,0.4146542,0.5797082),\n",
    "    (0.25,1):(0.7701209,0.4403447,0.4109138),\n",
    "    (0.375,0):(0.433181,0.2015954,1.02566),\n",
    "    (0.375,0.25):(0.5719827,0.2728352,0.851553),\n",
    "    (0.375,0.5):(0.6453318,0.319745,0.6819677),\n",
    "    (0.375,0.75):(0.6838571,0.353921,0.516175),\n",
    "    (0.375,1):(0.6993466,0.3800876,0.3511725),\n",
    "    (0.5,0):(0.3503708,0.1061697,0.9532181),\n",
    "    (0.5,0.25):(0.503309,0.2039402,0.7821031),\n",
    "    (0.5,0.5):(0.5783888,0.2575291,0.6159276),\n",
    "    (0.5,0.75):(0.6158853,0.2940635,0.4540248),\n",
    "    (0.5,1):(0.629415,0.3209733,0.2930891),\n",
    "    (0.625,0):(0.2596542,0,0.8816665),\n",
    "    (0.625,0.25):(0.4350924,0.1276332,0.7136698),\n",
    "    (0.625,0.5):(0.5125013,0.1944913,0.551089),\n",
    "    (0.625,0.75):(0.5489184,0.2348568,0.3933562),\n",
    "    (0.625,1):(0.5603369,0.2629642,0.2368113),\n",
    "    (0.75,0):(0.1462514,0,0.8110411),\n",
    "    (0.75,0.25):(0.3670615,0.01534454,0.6462989),\n",
    "    (0.75,0.5):(0.4476985,0.1281543,0.4875197),\n",
    "    (0.75,0.75):(0.4829848,0.1757512,0.3342867),\n",
    "    (0.75,1):(0.4921196,0.2059198,0.182519),\n",
    "    (0.875,0):(0,0,0.7413815),\n",
    "    (0.875,0.25):(0.2986907,0,0.5800419),\n",
    "    (0.875,0.5):(0.384003,0.04765813,0.4252967),\n",
    "    (0.875,0.75):(0.4181094,0.1152187,0.2769579),\n",
    "    (0.875,1):(0.4247632,0.149432,0.1304326),\n",
    "    (1,0):(0,0,0.6727336),\n",
    "    (1,0.25):(0.2288503,0,0.5149575),\n",
    "    (1,0.5):(0.3214228,0,0.364509),\n",
    "    (1,0.75):(0.3543108,0.04708795,0.2215445),\n",
    "    (1,1):(0.3582592,0.09223427,0.08081748),\n",
    "}\n",
    "\n",
    "plantcol = {\n",
    "    (0,0):(0.2713417,0.8473476,0.6985413),\n",
    "    (0,0.25):(0.5222976,0.8314039,0.5983568),\n",
    "    (0,0.5):(0.6702517,0.8133132,0.4962752),\n",
    "    (0,0.75):(0.7831645,0.7929001,0.3894677),\n",
    "    (0,1):(0.8772926,0.7699422,0.2702902),\n",
    "    (0.125,0):(0.1684624,0.7797177,0.6326398),\n",
    "    (0.125,0.25):(0.4552579,0.7644312,0.5338795),\n",
    "    (0.125,0.5):(0.6031148,0.7469373,0.4327791),\n",
    "    (0.125,0.75):(0.7132894,0.7270474,0.3255313),\n",
    "    (0.125,1):(0.804257,0.7045187,0.1998102),\n",
    "    (0.25,0):(0,0.7130001,0.5679671),\n",
    "    (0.25,0.25):(0.388663,0.6984147,0.4706705),\n",
    "    (0.25,0.5):(0.5370029,0.6815584,0.3704278),\n",
    "    (0.25,0.75):(0.6443356,0.6622278,0.2618447),\n",
    "    (0.25,1):(0.7320064,0.6401571,0.1213466),\n",
    "    (0.375,0):(0,0.6472268,0.5045964),\n",
    "    (0.375,0.25):(0.3221455,0.6333928,0.4087968),\n",
    "    (0.375,0.5):(0.4719303,0.6172208,0.3091882),\n",
    "    (0.375,0.75):(0.576326,0.5984914,0.1975334),\n",
    "    (0.375,1):(0.6605623,0.5769123,0.003715212),\n",
    "    (0.5,0):(0,0.5824318,0.4426121),\n",
    "    (0.5,0.25):(0.2549465,0.5694063,0.3483288),\n",
    "    (0.5,0.5):(0.4078946,0.5539731,0.2489414),\n",
    "    (0.5,0.75):(0.5092819,0.5358946,0.1302067),\n",
    "    (0.5,1):(0.5899497,0.5148475,0),\n",
    "    (0.625,0):(0,0.5186502,0.3821121),\n",
    "    (0.625,0.25):(0.1852674,0.5064998,0.2893357),\n",
    "    (0.625,0.5):(0.3448606,0.491869,0.1893597),\n",
    "    (0.625,0.75):(0.4432206,0.4745005,0.04941796),\n",
    "    (0.625,1):(0.5202019,0.4540356,0),\n",
    "    (0.75,0):(0,0.4559185,0.3232112),\n",
    "    (0.75,0.25):(0.1073859,0.4447205,0.2318735),\n",
    "    (0.75,0.5):(0.2827248,0.430968,0.129521),\n",
    "    (0.75,0.75):(0.3781526,0.414382,0),\n",
    "    (0.75,1):(0.4516689,0.3945923,0),\n",
    "    (0.875,0):(0,0.394273,0.2660466),\n",
    "    (0.875,0.25):(0,0.3841186,0.1759491),\n",
    "    (0.875,0.5):(0.2212297,0.371336,0.0661454),\n",
    "    (0.875,0.75):(0.3141779,0.3556307,0),\n",
    "    (0.875,1):(0.3864371,0.3368182,0),\n",
    "    (1,0):(0,0.3337484,0.2107842),\n",
    "    (1,0.25):(0,0.3247465,0.1214123),\n",
    "    (1,0.5):(0.1597211,0.3130468,0),\n",
    "    (1,0.75):(0.254261,0.2985509,0),\n",
    "    (1,1):(0.3258368,0.2809587,0),\n",
    "}\n",
    "def clamp(rgb):\n",
    "    return ( min(max(rgb[0],0),1), min(max(rgb[1],0),1), min(max(rgb[2],0),1) )"
   ]
  },
  {
   "cell_type": "code",
   "execution_count": 16,
   "id": "6ec51896",
   "metadata": {},
   "outputs": [
    {
     "data": {
      "image/png": "[encoded data removed]",
      "text/plain": [
       "<Figure size 144x144 with 1 Axes>"
      ]
     },
     "metadata": {},
     "output_type": "display_data"
    }
   ],
   "source": [
    "im = np.empty((5,9,3))\n",
    "for i in range(9):\n",
    "    size= i/8\n",
    "    for j in range(5):\n",
    "        intra = 1-j/4\n",
    "        im[j,i] = clamp(plantcol[size,intra])\n",
    "\n",
    "fig,ax = plt.subplots(figsize=(2,2))\n",
    "# ax.set_xticklabels(np.arange(0,10))\n",
    "# ax.set_yticklabels(np.arange(6,0,-1))\n",
    "ax.tick_params(axis='y', left=False, labelleft=False)\n",
    "ax.tick_params(axis='x', bottom=False, labelbottom=False)\n",
    "ax.set_xlabel('mass')\n",
    "ax.set_ylabel('intra')\n",
    "ax.imshow(im)\n",
    "plt.savefig('C:/data/graphs/plantlab.svg')\n",
    "plt.savefig('C:/data/graphs/plantlab.pdf')"
   ]
  },
  {
   "cell_type": "code",
   "execution_count": 6,
   "id": "c6962eef",
   "metadata": {},
   "outputs": [],
   "source": [
    "def get_nx_from_matrix(matrix):\n",
    "    A,b,x = matrix.split(':')\n",
    "\n",
    "    plants = {}\n",
    "    sizes = {}\n",
    "    for row, datum in enumerate(b.split(',')):\n",
    "        val = float(datum)\n",
    "        if val < 0:\n",
    "            plants[row] = True\n",
    "            kg = (-val/r0) ** (1/(beta-1))\n",
    "        else:\n",
    "            plants[row] = False\n",
    "            kg = (val/z0) ** (1/(beta-1))\n",
    "\n",
    "        sizes[row] = round(unnormalise(kg, kgmin, kgmax), 4)\n",
    "\n",
    "    intras = {}\n",
    "    inters = {}\n",
    "    G = nx.DiGraph()\n",
    "    for row, data in enumerate(A.split(';')):\n",
    "        for col, datum in enumerate(data.split(',')):\n",
    "            val = float(datum)\n",
    "            if row == col:\n",
    "                intras[row] = round(unnormalise(-val, aiimin, aiimax), 4)\n",
    "            elif val != 0:\n",
    "                if val<0:\n",
    "                    G.add_edge(row,col)\n",
    "                inters[(row,col)] = val\n",
    "                \n",
    "    nx.set_node_attributes(G, plants, 'plant')\n",
    "    nx.set_node_attributes(G, sizes, 'size')\n",
    "    nx.set_node_attributes(G, intras, 'intra')\n",
    "    nx.set_edge_attributes(G, inters, 'inter')\n",
    "\n",
    "    colors = {}\n",
    "    for idx in plants.keys():\n",
    "        if plants[idx]:\n",
    "            colors[idx] = clamp(plantcol[sizes[idx],intras[idx]])\n",
    "        else:\n",
    "            colors[idx] = clamp(animalcol[sizes[idx],intras[idx]])    \n",
    "    nx.set_node_attributes(G, colors, 'color')\n",
    "    \n",
    "    return G"
   ]
  },
  {
   "cell_type": "code",
   "execution_count": 14,
   "id": "f27f6199",
   "metadata": {},
   "outputs": [
    {
     "name": "stdout",
     "output_type": "stream",
     "text": [
      "done 2 0\n",
      "done 3 0\n",
      "done 4 0\n",
      "done 5 0\n",
      "done 6 0\n",
      "done 7 0\n",
      "done 8 0\n",
      "done 9 0\n",
      "done 10 0\n",
      "done 11 0\n",
      "done 12 0\n",
      "done 13 0\n",
      "done 14 0\n",
      "done 15 0\n",
      "done 16 0\n",
      "done 17 0\n",
      "done 18 0\n",
      "done 101 0\n",
      "done 101 1\n",
      "done 101 2\n",
      "done 102 0\n",
      "done 102 1\n",
      "done 102 2\n",
      "done 103 0\n",
      "done 103 1\n",
      "done 103 2\n"
     ]
    },
    {
     "data": {
      "image/png": "[encoded data removed]",
      "text/plain": [
       "<Figure size 432x288 with 1 Axes>"
      ]
     },
     "metadata": {},
     "output_type": "display_data"
    }
   ],
   "source": [
    "# draw graphs\n",
    "\n",
    "lid_grouped = df.groupby('lid')\n",
    "\n",
    "for lid in lid_grouped.groups.keys():        \n",
    "    df_lid = lid_grouped.get_group(lid)\n",
    "    df_best = df_lid.sort_values('score', ascending=False) # only take first playthrough\n",
    "    \n",
    "    nranks = 3 if lid > 100 else 1 if lid > 1 else 0\n",
    "    for rank in range(nranks):\n",
    "        matrix = df_best.iloc[rank]['matrix']\n",
    "        G = get_nx_from_matrix(matrix)\n",
    "\n",
    "        I,J = zip(*G.edges)\n",
    "\n",
    "        \n",
    "        cols = nx.get_node_attributes(G, 'color')\n",
    "        nodelist = G.nodes\n",
    "        colors = [cols[i] for i in nodelist]\n",
    "\n",
    "        plt.clf()\n",
    "        nx.draw(G, nodelist=nodelist, node_color=colors, edge_color=(0,0,0,.25))\n",
    "        plt.axis('equal')\n",
    "        plt.savefig(f'C:/data/graphs/{lid}_{rank}.png')\n",
    "        print(f'done {lid} {rank}')"
   ]
  },
  {
   "cell_type": "code",
   "execution_count": 8,
   "id": "7442d3f4",
   "metadata": {},
   "outputs": [],
   "source": [
    "def graph_attrs(G):\n",
    "    n = len(G)\n",
    "    L = np.zeros((n,n))\n",
    "    C = 0\n",
    "    for e in G.edges:\n",
    "        res = e[0]\n",
    "        con = e[1]\n",
    "        L[con,con] += 1\n",
    "        L[con,res] -= 1\n",
    "        C += 1\n",
    "    \n",
    "    attrs = {}\n",
    "    C /= (n*(n-1)) / 2\n",
    "    attrs['connectance'] = C\n",
    "        \n",
    "    for row in range(n):\n",
    "        if L[row,row] == 0:\n",
    "            L[row,row] = 1;\n",
    "        else:\n",
    "            L[row] /= L[row,row]\n",
    "            \n",
    "    b = np.ones(n)\n",
    "    levels = np.linalg.solve(L, b)\n",
    "    trophic = {}\n",
    "    for i in range(n):\n",
    "        trophic[i] = levels[i]\n",
    "        \n",
    "    coherence = 0\n",
    "    for e in G.edges:\n",
    "        res = e[0]\n",
    "        con = e[1]\n",
    "        coherence += (trophic[res]-trophic[con]) ** 2\n",
    "    coherence /= len(G.edges)\n",
    "    coherence = np.sqrt(coherence-1)\n",
    "    attrs['incoherence'] = coherence\n",
    "        \n",
    "    nx.set_node_attributes(G, trophic, 'trophic')\n",
    "    \n",
    "    undirected = nx.Graph(G.edges)\n",
    "#     communities = nx.algorithms.community.greedy_modularity_communities(undirected)\n",
    "#     communities = list(communities)\n",
    "    return attrs"
   ]
  },
  {
   "cell_type": "code",
   "execution_count": 9,
   "id": "780e9d10",
   "metadata": {},
   "outputs": [
    {
     "name": "stdout",
     "output_type": "stream",
     "text": [
      "{'connectance': 0.6666666666666666, 'incoherence': 0.0}\n"
     ]
    }
   ],
   "source": [
    "G = nx.DiGraph()\n",
    "G.add_edge(0,1)\n",
    "G.add_edge(0,2)\n",
    "print(graph_attrs(G))"
   ]
  },
  {
   "cell_type": "code",
   "execution_count": 17,
   "id": "8b8a3471",
   "metadata": {},
   "outputs": [
    {
     "name": "stdout",
     "output_type": "stream",
     "text": [
      "doing 101\n",
      "RyanM 1\n",
      "Jane 0\n",
      "Formula350 1\n"
     ]
    },
    {
     "name": "stderr",
     "output_type": "stream",
     "text": [
      "C:\\Users\\94795\\anaconda3\\lib\\site-packages\\seaborn\\_decorators.py:36: FutureWarning: Pass the following variable as a keyword arg: y. From version 0.12, the only valid positional argument will be `data`, and passing other arguments without an explicit keyword will result in an error or misinterpretation.\n",
      "  warnings.warn(\n",
      "C:\\Users\\94795\\anaconda3\\lib\\site-packages\\seaborn\\_decorators.py:36: FutureWarning: Pass the following variable as a keyword arg: y. From version 0.12, the only valid positional argument will be `data`, and passing other arguments without an explicit keyword will result in an error or misinterpretation.\n",
      "  warnings.warn(\n",
      "C:\\Users\\94795\\anaconda3\\lib\\site-packages\\seaborn\\distributions.py:2619: FutureWarning: `distplot` is a deprecated function and will be removed in a future version. Please adapt your code to use either `displot` (a figure-level function with similar flexibility) or `histplot` (an axes-level function for histograms).\n",
      "  warnings.warn(msg, FutureWarning)\n",
      "C:\\Users\\94795\\anaconda3\\lib\\site-packages\\seaborn\\distributions.py:2619: FutureWarning: `distplot` is a deprecated function and will be removed in a future version. Please adapt your code to use either `displot` (a figure-level function with similar flexibility) or `histplot` (an axes-level function for histograms).\n",
      "  warnings.warn(msg, FutureWarning)\n",
      "C:\\Users\\94795\\anaconda3\\lib\\site-packages\\seaborn\\distributions.py:2619: FutureWarning: `distplot` is a deprecated function and will be removed in a future version. Please adapt your code to use either `displot` (a figure-level function with similar flexibility) or `histplot` (an axes-level function for histograms).\n",
      "  warnings.warn(msg, FutureWarning)\n"
     ]
    },
    {
     "name": "stdout",
     "output_type": "stream",
     "text": [
      "doing 102\n",
      "ISutto 1\n",
      "AdrM 0\n",
      "Veselina 1\n"
     ]
    },
    {
     "name": "stderr",
     "output_type": "stream",
     "text": [
      "C:\\Users\\94795\\anaconda3\\lib\\site-packages\\seaborn\\_decorators.py:36: FutureWarning: Pass the following variable as a keyword arg: y. From version 0.12, the only valid positional argument will be `data`, and passing other arguments without an explicit keyword will result in an error or misinterpretation.\n",
      "  warnings.warn(\n",
      "C:\\Users\\94795\\anaconda3\\lib\\site-packages\\seaborn\\_decorators.py:36: FutureWarning: Pass the following variable as a keyword arg: y. From version 0.12, the only valid positional argument will be `data`, and passing other arguments without an explicit keyword will result in an error or misinterpretation.\n",
      "  warnings.warn(\n",
      "C:\\Users\\94795\\anaconda3\\lib\\site-packages\\seaborn\\distributions.py:2619: FutureWarning: `distplot` is a deprecated function and will be removed in a future version. Please adapt your code to use either `displot` (a figure-level function with similar flexibility) or `histplot` (an axes-level function for histograms).\n",
      "  warnings.warn(msg, FutureWarning)\n",
      "C:\\Users\\94795\\anaconda3\\lib\\site-packages\\seaborn\\distributions.py:2619: FutureWarning: `distplot` is a deprecated function and will be removed in a future version. Please adapt your code to use either `displot` (a figure-level function with similar flexibility) or `histplot` (an axes-level function for histograms).\n",
      "  warnings.warn(msg, FutureWarning)\n",
      "C:\\Users\\94795\\anaconda3\\lib\\site-packages\\seaborn\\distributions.py:2619: FutureWarning: `distplot` is a deprecated function and will be removed in a future version. Please adapt your code to use either `displot` (a figure-level function with similar flexibility) or `histplot` (an axes-level function for histograms).\n",
      "  warnings.warn(msg, FutureWarning)\n"
     ]
    },
    {
     "name": "stdout",
     "output_type": "stream",
     "text": [
      "doing 103\n",
      "ISutto 1\n",
      "AdrM 0\n",
      "ethan 0\n"
     ]
    },
    {
     "name": "stderr",
     "output_type": "stream",
     "text": [
      "C:\\Users\\94795\\anaconda3\\lib\\site-packages\\seaborn\\_decorators.py:36: FutureWarning: Pass the following variable as a keyword arg: y. From version 0.12, the only valid positional argument will be `data`, and passing other arguments without an explicit keyword will result in an error or misinterpretation.\n",
      "  warnings.warn(\n",
      "C:\\Users\\94795\\anaconda3\\lib\\site-packages\\seaborn\\_decorators.py:36: FutureWarning: Pass the following variable as a keyword arg: y. From version 0.12, the only valid positional argument will be `data`, and passing other arguments without an explicit keyword will result in an error or misinterpretation.\n",
      "  warnings.warn(\n",
      "C:\\Users\\94795\\anaconda3\\lib\\site-packages\\seaborn\\distributions.py:2619: FutureWarning: `distplot` is a deprecated function and will be removed in a future version. Please adapt your code to use either `displot` (a figure-level function with similar flexibility) or `histplot` (an axes-level function for histograms).\n",
      "  warnings.warn(msg, FutureWarning)\n",
      "C:\\Users\\94795\\anaconda3\\lib\\site-packages\\seaborn\\distributions.py:2619: FutureWarning: `distplot` is a deprecated function and will be removed in a future version. Please adapt your code to use either `displot` (a figure-level function with similar flexibility) or `histplot` (an axes-level function for histograms).\n",
      "  warnings.warn(msg, FutureWarning)\n"
     ]
    },
    {
     "data": {
      "image/png": "[encoded data removed]",
      "text/plain": [
       "<Figure size 360x288 with 4 Axes>"
      ]
     },
     "metadata": {
      "needs_background": "light"
     },
     "output_type": "display_data"
    },
    {
     "data": {
      "image/png": "[encoded data removed]",
      "text/plain": [
       "<Figure size 432x288 with 2 Axes>"
      ]
     },
     "metadata": {
      "needs_background": "light"
     },
     "output_type": "display_data"
    },
    {
     "data": {
      "image/png": "[encoded data removed]",
      "text/plain": [
       "<Figure size 360x288 with 2 Axes>"
      ]
     },
     "metadata": {
      "needs_background": "light"
     },
     "output_type": "display_data"
    },
    {
     "data": {
      "image/png": "[encoded data removed]",
      "text/plain": [
       "<Figure size 288x288 with 1 Axes>"
      ]
     },
     "metadata": {
      "needs_background": "light"
     },
     "output_type": "display_data"
    },
    {
     "data": {
      "image/png": "[encoded data removed]",
      "text/plain": [
       "<Figure size 360x288 with 4 Axes>"
      ]
     },
     "metadata": {
      "needs_background": "light"
     },
     "output_type": "display_data"
    },
    {
     "data": {
      "image/png": "[encoded data removed]",
      "text/plain": [
       "<Figure size 432x288 with 2 Axes>"
      ]
     },
     "metadata": {
      "needs_background": "light"
     },
     "output_type": "display_data"
    },
    {
     "data": {
      "image/png": "[encoded data removed]",
      "text/plain": [
       "<Figure size 360x288 with 2 Axes>"
      ]
     },
     "metadata": {
      "needs_background": "light"
     },
     "output_type": "display_data"
    },
    {
     "data": {
      "image/png": "[encoded data removed]",
      "text/plain": [
       "<Figure size 288x288 with 1 Axes>"
      ]
     },
     "metadata": {
      "needs_background": "light"
     },
     "output_type": "display_data"
    },
    {
     "data": {
      "image/png": "[encoded data removed]",
      "text/plain": [
       "<Figure size 360x288 with 4 Axes>"
      ]
     },
     "metadata": {
      "needs_background": "light"
     },
     "output_type": "display_data"
    },
    {
     "data": {
      "image/png": "[encoded data removed]",
      "text/plain": [
       "<Figure size 432x288 with 2 Axes>"
      ]
     },
     "metadata": {
      "needs_background": "light"
     },
     "output_type": "display_data"
    },
    {
     "data": {
      "image/png": "[encoded data removed]",
      "text/plain": [
       "<Figure size 360x288 with 2 Axes>"
      ]
     },
     "metadata": {
      "needs_background": "light"
     },
     "output_type": "display_data"
    },
    {
     "data": {
      "image/png": "[encoded data removed]",
      "text/plain": [
       "<Figure size 288x288 with 1 Axes>"
      ]
     },
     "metadata": {
      "needs_background": "light"
     },
     "output_type": "display_data"
    }
   ],
   "source": [
    "lid_grouped = df.groupby('lid')\n",
    "\n",
    "for lid in lid_grouped.groups.keys():\n",
    "    if lid<100:\n",
    "        continue\n",
    "    print(f'doing {lid}')\n",
    "        \n",
    "    df_lid = lid_grouped.get_group(lid)\n",
    "    df_best = df_lid.sort_values('score', ascending=False) # only take first playthrough\n",
    "\n",
    "    im_anim = np.zeros((5,9))\n",
    "    im_plant = np.zeros((5,9))\n",
    "    \n",
    "    x_trophic = []\n",
    "    y_size = []\n",
    "    y_intra = []\n",
    "    \n",
    "    connectances = []\n",
    "    coherences = []\n",
    "    \n",
    "    nranks = 3\n",
    "#     nranks = len(df_best)\n",
    "    for rank in range(nranks):\n",
    "        row = df_best.iloc[rank]\n",
    "        print(row['username'], row['team'])\n",
    "        try:\n",
    "            G = get_nx_from_matrix(row['matrix'])\n",
    "        except ValueError:\n",
    "            print(f'bad data in {row[\"username\"]}')\n",
    "            continue\n",
    "        \n",
    "        attrs = graph_attrs(G)\n",
    "        trophics = nx.get_node_attributes(G, 'trophic')\n",
    "            \n",
    "        sizes = nx.get_node_attributes(G, 'size')\n",
    "        intras = nx.get_node_attributes(G, 'intra')\n",
    "        plants = nx.get_node_attributes(G, 'plant')\n",
    "        \n",
    "        for idx in sizes.keys():\n",
    "            col = int(sizes[idx]*8)\n",
    "            row = 4-int(intras[idx]*4)\n",
    "            if plants[idx]:\n",
    "                im_plant[row,col] += 1\n",
    "            else:\n",
    "                im_anim[row,col] += 1\n",
    "\n",
    "            x_trophic.append(trophics[idx])\n",
    "            y_size.append(sizes[idx])\n",
    "            y_intra.append(intras[idx])\n",
    "        \n",
    "        connectances.append(attrs['connectance'])\n",
    "        if not math.isnan(attrs['incoherence']):\n",
    "            coherences.append(attrs['incoherence'])\n",
    "    \n",
    "    #######################\n",
    "    # SIZE AGAINST INTRA\n",
    "    \n",
    "    fig,axes = plt.subplots(nrows=2, gridspec_kw={'hspace':.28}, figsize=(5,4))\n",
    "    \n",
    "    viridis = plt.get_cmap('viridis')\n",
    "    tab10 = plt.get_cmap('tab10')\n",
    "    \n",
    "    axes[0].set_title('plants', fontsize=11)\n",
    "    axes[0].tick_params(axis='x', labelbottom=False)\n",
    "#     axes[0].set_xticks(np.arange(0,9))\n",
    "#     axes[0].set_xticklabels(np.arange(1,10))\n",
    "    axes[0].set_yticks(np.arange(0,6))\n",
    "    axes[0].set_yticklabels(np.arange(5,-1,-1))\n",
    "#     axes[0].set_xlabel('mass')\n",
    "    axes[0].set_ylabel('intra')\n",
    "    a = axes[0].imshow(im_plant)\n",
    "    \n",
    "    axes[1].set_title('animals', fontsize=11)\n",
    "    axes[1].set_xticks(np.arange(0,9,2))\n",
    "    axes[1].set_xticklabels(np.arange(1,10,2))\n",
    "    axes[1].set_yticks(np.arange(0,6))\n",
    "    axes[1].set_yticklabels(np.arange(5,-1,-1))\n",
    "    axes[1].set_xlabel('mass')\n",
    "    axes[1].set_ylabel('intra')\n",
    "    b = axes[1].imshow(im_anim)\n",
    "    \n",
    "    colora = plt.colorbar(a, ax=axes[0])\n",
    "    colorb = plt.colorbar(b, ax=axes[1])\n",
    "    \n",
    "    plt.savefig(f'C:/data/graphs/{lid}_{nranks}_0.svg')\n",
    "    plt.savefig(f'C:/data/graphs/{lid}_{nranks}_0.pdf')\n",
    "    \n",
    "    \n",
    "    ##############################\n",
    "    # TROPHIC AGAINST MASS/INTRA\n",
    "    \n",
    "    fig,axes = plt.subplots(ncols=2, figsize=(6,4))\n",
    "    sns.kdeplot(y_size, x_trophic, shade=True, ax=axes[0], cmap=viridis)\n",
    "    sns.kdeplot(y_intra, x_trophic, shade=True, ax=axes[1], cmap=viridis)#, bw=.4)\n",
    "#     sns.scatterplot(y_size, x_trophic, ax=axes[0])\n",
    "#     sns.scatterplot(y_intra, x_trophic, ax=axes[1])\n",
    "    axes[0].set_ylabel('trophic level')\n",
    "    axes[0].set_yticks([1,2,3,4])\n",
    "    axes[0].set_xlabel('mass')\n",
    "    axes[0].set_xlim([0,1])\n",
    "    axes[0].set_ylim([1,4])\n",
    "    axes[0].set_xticks([0,.25,.5,.75,1])\n",
    "    axes[0].set_xticklabels([1,3,5,7,9])\n",
    "    \n",
    "    axes[1].set_yticks([1,2,3,4])\n",
    "    axes[1].set_xlabel('intra')\n",
    "    axes[1].set_xlim([0,1])\n",
    "    axes[1].set_ylim([1,4])\n",
    "    axes[1].set_xticks([0,.25,.5,.75,1])\n",
    "    axes[1].set_xticklabels([1,2,3,4,5])\n",
    "    \n",
    "    plt.savefig(f'C:/data/graphs/{lid}_{nranks}_1.svg')\n",
    "    plt.savefig(f'C:/data/graphs/{lid}_{nranks}_1.pdf')\n",
    "    \n",
    "    ##############################\n",
    "    # CONNECTANCE AND INCOHERENCE\n",
    "    \n",
    "    # compare trophic level against size\n",
    "    fig,axes = plt.subplots(nrows=2, figsize=(5,4), gridspec_kw={'hspace':.3})\n",
    "    med_conn = np.median(connectances)\n",
    "    med_cohe = np.median(coherences)\n",
    "    sns.distplot(connectances, ax=axes[0], color=tab10(0))\n",
    "    axes[0].axvline(med_conn, ls=(0,[2,2]), color=tab10(0))\n",
    "    axes[0].set_title('connectance', fontsize=11)\n",
    "    axes[0].set_xlim([0,1])\n",
    "    axes[0].tick_params(axis='x', labelbottom=False)\n",
    "    axes[0].set_ylabel('num webs')\n",
    "    axes[0].tick_params(axis='y', left=False, labelleft=False)\n",
    "    \n",
    "    axes[1].set_title('incoherence', fontsize=11)\n",
    "    axes[1].set_xlim([0,1])\n",
    "    axes[1].set_ylabel('num webs')\n",
    "    axes[1].tick_params(axis='y', left=False, labelleft=False)\n",
    "    if med_cohe!=0:\n",
    "        sns.distplot(coherences, ax=axes[1], color=tab10(0))\n",
    "        axes[1].axvline(med_cohe, ls=(0,[2,2]), color=tab10(0))\n",
    "    else:\n",
    "        axes[1].axvline(.005, ls=(0,[2,2]), color=tab10(0))\n",
    "    \n",
    "    plt.savefig(f'C:/data/graphs/{lid}_{nranks}_2.svg')\n",
    "    plt.savefig(f'C:/data/graphs/{lid}_{nranks}_2.pdf')\n",
    "    \n",
    "    ##############################\n",
    "    # DIST TROPHIC LEVEL\n",
    "    \n",
    "    med_trophic = np.median(x_trophic)\n",
    "    fix,ax = plt.subplots(figsize=(4,4))\n",
    "    sns.distplot(x_trophic, ax=ax, color=tab10(0))\n",
    "    ax.axvline(med_trophic, ls=(0,[2,2]), color=tab10(0))\n",
    "    ax.set_xlabel('trophic level')\n",
    "    ax.set_ylabel('num species')\n",
    "    ax.tick_params(axis='y', left=False, labelleft=False)\n",
    "\n",
    "    plt.savefig(f'C:/data/graphs/{lid}_{nranks}_3.svg')\n",
    "    plt.savefig(f'C:/data/graphs/{lid}_{nranks}_3.pdf')"
   ]
  },
  {
   "cell_type": "code",
   "execution_count": null,
   "id": "b25d12b6",
   "metadata": {},
   "outputs": [],
   "source": []
  }
 ],
 "metadata": {
  "kernelspec": {
   "display_name": "Python 3 (ipykernel)",
   "language": "python",
   "name": "python3"
  },
  "language_info": {
   "codemirror_mode": {
    "name": "ipython",
    "version": 3
   },
   "file_extension": ".py",
   "mimetype": "text/x-python",
   "name": "python",
   "nbconvert_exporter": "python",
   "pygments_lexer": "ipython3",
   "version": "3.9.7"
  }
 },
 "nbformat": 4,
 "nbformat_minor": 5
}
